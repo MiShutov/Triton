{
 "cells": [
  {
   "cell_type": "code",
   "execution_count": null,
   "id": "cb5d9d4b",
   "metadata": {},
   "outputs": [],
   "source": [
    "import torch"
   ]
  },
  {
   "cell_type": "code",
   "execution_count": 2,
   "id": "17d2c088",
   "metadata": {},
   "outputs": [],
   "source": [
    "x = torch.randn(10**6).cuda()"
   ]
  },
  {
   "cell_type": "code",
   "execution_count": null,
   "id": "415d44b9",
   "metadata": {},
   "outputs": [
    {
     "data": {
      "text/plain": [
       "tensor([ 0.1832,  1.0823, -1.1020, -2.2206, -0.6066, -0.6003, -1.8771, -1.5581,\n",
       "        -0.5125,  0.0037], device='cuda:0')"
      ]
     },
     "execution_count": 3,
     "metadata": {},
     "output_type": "execute_result"
    }
   ],
   "source": [
    "x - 2"
   ]
  },
  {
   "cell_type": "code",
   "execution_count": 4,
   "id": "db062eda",
   "metadata": {},
   "outputs": [
    {
     "data": {
      "text/plain": [
       "tensor([-1.8168, -0.9177, -3.1020, -4.2206, -2.6066, -2.6003, -3.8771, -3.5581,\n",
       "        -2.5125, -1.9963], device='cuda:0')"
      ]
     },
     "execution_count": 4,
     "metadata": {},
     "output_type": "execute_result"
    }
   ],
   "source": [
    "x - 3"
   ]
  },
  {
   "cell_type": "code",
   "execution_count": 5,
   "id": "1d90abaa",
   "metadata": {},
   "outputs": [
    {
     "data": {
      "text/plain": [
       "tensor([-2.8168, -1.9177, -4.1020, -5.2206, -3.6066, -3.6003, -4.8771, -4.5581,\n",
       "        -3.5125, -2.9963], device='cuda:0')"
      ]
     },
     "execution_count": 5,
     "metadata": {},
     "output_type": "execute_result"
    }
   ],
   "source": [
    "x - 4"
   ]
  },
  {
   "cell_type": "code",
   "execution_count": null,
   "id": "6b540e8f",
   "metadata": {},
   "outputs": [],
   "source": []
  }
 ],
 "metadata": {
  "kernelspec": {
   "display_name": "triton_env",
   "language": "python",
   "name": "python3"
  },
  "language_info": {
   "codemirror_mode": {
    "name": "ipython",
    "version": 3
   },
   "file_extension": ".py",
   "mimetype": "text/x-python",
   "name": "python",
   "nbconvert_exporter": "python",
   "pygments_lexer": "ipython3",
   "version": "3.12.11"
  }
 },
 "nbformat": 4,
 "nbformat_minor": 5
}
